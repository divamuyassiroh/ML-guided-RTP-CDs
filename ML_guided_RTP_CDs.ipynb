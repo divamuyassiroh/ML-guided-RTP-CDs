{
  "nbformat": 4,
  "nbformat_minor": 0,
  "metadata": {
    "colab": {
      "provenance": []
    },
    "kernelspec": {
      "name": "python3",
      "display_name": "Python 3"
    },
    "language_info": {
      "name": "python"
    }
  },
  "cells": [
    {
      "cell_type": "code",
      "execution_count": null,
      "metadata": {
        "id": "xCOBbqBS7ne3"
      },
      "outputs": [],
      "source": [
        "#Data Manipulation Libraries\n",
        "import numpy as np\n",
        "import scipy as sp\n",
        "from scipy import stats\n",
        "import pandas as pd\n",
        "from pandas.api.types import CategoricalDtype"
      ]
    },
    {
      "cell_type": "code",
      "source": [
        "#Data Visualization libraries\n",
        "import matplotlib.pyplot as plt\n",
        "import seaborn as sns"
      ],
      "metadata": {
        "id": "OGxDeyYM8TlE"
      },
      "execution_count": null,
      "outputs": []
    },
    {
      "cell_type": "code",
      "source": [
        "#Data modelling libraries\n",
        "import sklearn\n",
        "from sklearn import metrics\n",
        "from sklearn.decomposition import PCA\n",
        "from sklearn.model_selection import train_test_split\n",
        "from sklearn.preprocessing import OrdinalEncoder, MinMaxScaler, StandardScaler\n",
        "from sklearn.ensemble import RandomForestRegressor\n",
        "from sklearn.metrics import r2_score, mean_squared_error, accuracy_score\n",
        "from sklearn.model_selection import GridSearchCV\n",
        "import xgboost as xgb"
      ],
      "metadata": {
        "id": "7AfYkjVG8jcP"
      },
      "execution_count": null,
      "outputs": []
    },
    {
      "cell_type": "code",
      "source": [
        "#Import data\n",
        "df = pd.read_csv('Data/dataset.csv', delimiter=\";\")\n",
        "df.dropna()\n",
        "df.describe()\n",
        "\n",
        "plt.figure(figsize=(17,10))\n",
        "sns.set(font_scale=2)\n",
        "sns.heatmap(df[['EDA','PA', 't', 'Tf']].corr(), annot=True, vmin=-1, vmax=1, cmap='coolwarm', square=True, fmt='.2f')\n",
        "plt.show()"
      ],
      "metadata": {
        "id": "rWkaE9Xb9bVR"
      },
      "execution_count": null,
      "outputs": []
    },
    {
      "cell_type": "code",
      "source": [
        "X, y=df.iloc[:,:-1], df.i;oc[:,-1]\n",
        "X_train, X_test, y_train, y_test = train_test_split(X, y, test_size=0.2, random_state=123)"
      ],
      "metadata": {
        "id": "CkH2N3p0-TZb"
      },
      "execution_count": null,
      "outputs": []
    },
    {
      "cell_type": "code",
      "source": [
        "SS = StandardScaler()\n",
        "SS.fit(df.iloc[:,:-1])\n",
        "df_trans = SS.transform(df.iloc[:,:-1])\n",
        "df['EDA'] = df_trans[:,0]\n",
        "df['PA'] = df_trans[:,1]\n",
        "df['t'] = df_trans[:,2]\n",
        "df['Tf'] = df_trans[:,3]"
      ],
      "metadata": {
        "id": "VPk5aLwU-j9H"
      },
      "execution_count": null,
      "outputs": []
    },
    {
      "cell_type": "code",
      "source": [
        "model = PCA(n_components=1)\n",
        "model.fit(df.iloc[:,2:4].values)\n",
        "model.trasform(df.iloc[:,2:4].values)\n",
        "df.to_csv('transPCA.csv')\n",
        "df = df.drop(['t', 'Tf'], axis=1)"
      ],
      "metadata": {
        "id": "omborsEH-8Ah"
      },
      "execution_count": null,
      "outputs": []
    },
    {
      "cell_type": "code",
      "source": [
        "X1 = df.drop(labels='Lifetime', axis=1).values\n",
        "y1 = df['Lifetime']\n",
        "X1_train, X1_test, y1_train, y1_test = train_test_split(X1, y1, test_size=0.25, shuffle=True, random_state=42)"
      ],
      "metadata": {
        "id": "fcvvFSA__WYP"
      },
      "execution_count": null,
      "outputs": []
    },
    {
      "cell_type": "code",
      "source": [
        "cont= []\n",
        "for i in range(1,21):\n",
        "  for j in range(1,11):\n",
        "    for k in range(1,11):\n",
        "      for l i [a/10 for a in range(1,11)]:\n",
        "        xgb_regressor = xgb.XGBRegressor(objective='reg:squarederror',\n",
        "                                         n_estimators = 100,\n",
        "                                         learning_rate = l,\n",
        "                                         max_depth = i,\n",
        "                                         reg_alpha = j,\n",
        "                                         reg_lambda = k, seed=123)\n",
        "        xgb_regressor.fit(X1_train, y1_train, early_stopping_rounds=10, eval_set=[(X1_test,y1_test)], verbose=False)\n",
        "        y1_pred = xgb_regressor.predict(X1_test)\n",
        "        cont.append([i,j,k,l, np.sqrt(metrics.mean_squared_error(y1_test, y1_pred)),\n",
        "                     metrics.r2_score(y1_test, y1_pred)])"
      ],
      "metadata": {
        "id": "n-rFrK6j_wiT"
      },
      "execution_count": null,
      "outputs": []
    },
    {
      "cell_type": "code",
      "source": [
        "xgb_regressor = xgb.XGBRegressor(n_estimators = 100,\n",
        "                                 learning_rate = l,\n",
        "                                 max_depth = i,\n",
        "                                 reg_alpha = j,\n",
        "                                 reg_lambda = k,\n",
        "                                 seed=123)"
      ],
      "metadata": {
        "id": "XLZY-2TOA8bo"
      },
      "execution_count": null,
      "outputs": []
    },
    {
      "cell_type": "code",
      "source": [
        "xgb_regressor.fit(X1_train, y1_train, eval_set=[(X1_test, y1_test)], verbose=False)\n",
        "print(xgb_regressor.score(X1_test,y1_test))\n",
        "print(xgb_regressor.score(X1_train, y1_train))"
      ],
      "metadata": {
        "id": "Y2a9Xhy9BPs6"
      },
      "execution_count": null,
      "outputs": []
    },
    {
      "cell_type": "code",
      "source": [
        "preds = xgb_regressor.predict(X1_test)\n",
        "\n",
        "r2 = r2_score(y1_test, preds)\n",
        "rmse = mean_squared_error(y1_test, preds, squared=False)\n",
        "print(\"r2:{}\".format(r2))\n",
        "print(\"RMSE:{}\".format(rmse))"
      ],
      "metadata": {
        "id": "qrFvccG3BgVs"
      },
      "execution_count": null,
      "outputs": []
    },
    {
      "cell_type": "code",
      "source": [
        "cv_results = cross_val_score(xgb_regressor, X1, y1, cv=kf)\n",
        "print(cv_results2)\n",
        "print(np.mean(cv_results), np.std(cv_results))"
      ],
      "metadata": {
        "id": "VstumtUWB3Uz"
      },
      "execution_count": null,
      "outputs": []
    },
    {
      "cell_type": "code",
      "source": [
        "cv_mse = cross_val_score(xgb_regressor, X1, y1, cv=kf, scoring='neg_mean_squared_error')\n",
        "print(-cv_mse)\n",
        "print(np.mean(-cv_mse), np.std(-cv_mse))"
      ],
      "metadata": {
        "id": "8gs3RFU4CNRT"
      },
      "execution_count": null,
      "outputs": []
    },
    {
      "cell_type": "code",
      "source": [
        "xgb.plot_importance(xgb_regressor)\n",
        "plt.show()"
      ],
      "metadata": {
        "id": "YtDB5c1MCdTD"
      },
      "execution_count": null,
      "outputs": []
    },
    {
      "cell_type": "code",
      "source": [
        "dfpred = pd.read_csv('Data/newdata.csv', delimiter=';')\n",
        "dfpred_trans = SS.transform(dfpred)\n",
        "dfpred['PCA'] = model.transform(dfpred.iloc[:,2:4].values)\n",
        "dfpred = dffpred.drop(['t','Tf'], axis=1)"
      ],
      "metadata": {
        "id": "KrHVyAY1CmTY"
      },
      "execution_count": null,
      "outputs": []
    },
    {
      "cell_type": "code",
      "source": [
        "Xpred = dfpred.values\n",
        "ypred = xgb_regressor.predict(Xpred)\n",
        "ypred = np.array(ypred)\n",
        "exc_pred = pd.DataFrame(ypred, columns = ['Lifetime'])\n",
        "exc_pred.to_csv('pred_newdata.csv')"
      ],
      "metadata": {
        "id": "kYn_xnVYDCAI"
      },
      "execution_count": null,
      "outputs": []
    }
  ]
}